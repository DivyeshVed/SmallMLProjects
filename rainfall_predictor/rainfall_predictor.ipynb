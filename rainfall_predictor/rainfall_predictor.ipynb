{
 "cells": [
  {
   "cell_type": "code",
   "execution_count": 108,
   "metadata": {},
   "outputs": [],
   "source": [
    "import pandas as pd\n",
    "from sklearn.model_selection import train_test_split\n",
    "from sklearn.linear_model import LinearRegression\n",
    "import numpy as np"
   ]
  },
  {
   "cell_type": "code",
   "execution_count": 109,
   "metadata": {},
   "outputs": [
    {
     "name": "stdout",
     "output_type": "stream",
     "text": [
      "Index(['Date', 'TempHighF', 'TempAvgF', 'TempLowF', 'DewPointHighF',\n",
      "       'DewPointAvgF', 'DewPointLowF', 'HumidityHighPercent',\n",
      "       'HumidityAvgPercent', 'HumidityLowPercent',\n",
      "       'SeaLevelPressureHighInches', 'SeaLevelPressureAvgInches',\n",
      "       'SeaLevelPressureLowInches', 'VisibilityHighMiles',\n",
      "       'VisibilityAvgMiles', 'VisibilityLowMiles', 'WindHighMPH', 'WindAvgMPH',\n",
      "       'WindGustMPH', 'PrecipitationSumInches', 'Events'],\n",
      "      dtype='object')\n"
     ]
    }
   ],
   "source": [
    "#########################\n",
    "## LOADING THE DATASET ##\n",
    "#########################\n",
    "df = pd.read_csv('austin_weather.csv')\n",
    "\n",
    "# Printing out the columns in the dataframe\n",
    "print(df.columns)"
   ]
  },
  {
   "cell_type": "code",
   "execution_count": 110,
   "metadata": {},
   "outputs": [],
   "source": [
    "##########################\n",
    "## CLEANING THE DATASET ##\n",
    "##########################\n",
    "# Replacing all the T values from the dataset with 0.0\n",
    "df = df.replace('T', 0.0)\n",
    "\n",
    "# Replacing all the - values from the dataset with 0.0\n",
    "df = df.replace('-', 0.0)\n",
    "\n",
    "# Need to get rid of certain columns\n",
    "df = df.drop(['Events', 'Date', 'SeaLevelPressureHighInches', 'SeaLevelPressureLowInches'], axis=1)\n"
   ]
  },
  {
   "cell_type": "code",
   "execution_count": 111,
   "metadata": {},
   "outputs": [
    {
     "name": "stdout",
     "output_type": "stream",
     "text": [
      "16\n",
      "[[1.0962996]]\n"
     ]
    },
    {
     "name": "stderr",
     "output_type": "stream",
     "text": [
      "/Users/divyeshved/miniconda3/lib/python3.10/site-packages/sklearn/base.py:439: UserWarning: X does not have valid feature names, but LinearRegression was fitted with feature names\n",
      "  warnings.warn(\n"
     ]
    }
   ],
   "source": [
    "###########################\n",
    "## SPLITTING OUT DATASET ##\n",
    "###########################\n",
    "# Getting our target variable data. \n",
    "Y = df['PrecipitationSumInches'].values.reshape(-1,1)\n",
    "\n",
    "# Getting our features from the dataset. \n",
    "X = df.drop(['PrecipitationSumInches'], axis=1)\n",
    "\n",
    "# Splitting the dataset for test and training.\n",
    "X_train, X_test, Y_train, Y_test = train_test_split(X, Y, test_size = 0.33, random_state = 42)\n",
    "\n",
    "# Creating a Linear Regression object. \n",
    "RainfallLinearRegerssion = LinearRegression()\n",
    "\n",
    "# Fitting the X and Y data to the Linear Regression object. \n",
    "RainfallLinearRegerssion.fit(X_train, Y_train)\n",
    "\n",
    "# Getting the coefficients.\n",
    "coefficients = list(RainfallLinearRegerssion.coef_)\n",
    "\n",
    "# Now inputting the X_test data into the model to predict the target variable produced. \n",
    "Y_pred = RainfallLinearRegerssion.predict(X_test)\n",
    "\n",
    "# Replacing all the predicted values that are less than 0.\n",
    "Y_pred[Y_pred < 0] = 0\n",
    "\n",
    "# Comparing Y_pred with the Y_test array. \n",
    "comparison = Y_pred == Y_test\n",
    "\n",
    "# The number of trues. \n",
    "number_of_trues = sum(comparison[comparison == True])"
   ]
  },
  {
   "cell_type": "code",
   "execution_count": 127,
   "metadata": {},
   "outputs": [
    {
     "name": "stdout",
     "output_type": "stream",
     "text": [
      "[[1.0962996]]\n",
      "0\n",
      "1\n"
     ]
    },
    {
     "name": "stderr",
     "output_type": "stream",
     "text": [
      "/Users/divyeshved/miniconda3/lib/python3.10/site-packages/sklearn/base.py:439: UserWarning: X does not have valid feature names, but LinearRegression was fitted with feature names\n",
      "  warnings.warn(\n"
     ]
    },
    {
     "ename": "IndexError",
     "evalue": "list index out of range",
     "output_type": "error",
     "traceback": [
      "\u001b[0;31m---------------------------------------------------------------------------\u001b[0m",
      "\u001b[0;31mIndexError\u001b[0m                                Traceback (most recent call last)",
      "Cell \u001b[0;32mIn[127], line 17\u001b[0m\n\u001b[1;32m     15\u001b[0m \u001b[39mfor\u001b[39;00m index, item \u001b[39min\u001b[39;00m \u001b[39menumerate\u001b[39m(\u001b[39mlist\u001b[39m(newList)):\n\u001b[1;32m     16\u001b[0m     \u001b[39mprint\u001b[39m(index)\n\u001b[0;32m---> 17\u001b[0m     output \u001b[39m+\u001b[39m\u001b[39m=\u001b[39m coefficients[index] \u001b[39m*\u001b[39m newList[index]\n\u001b[1;32m     18\u001b[0m \u001b[39mprint\u001b[39m(output)\n",
      "\u001b[0;31mIndexError\u001b[0m: list index out of range"
     ]
    }
   ],
   "source": [
    "#########################################\n",
    "## GETTING OUTPUT FOR A SPECIFIC INPUT ##\n",
    "#########################################\n",
    "# Making a numpy array that contains the inputs I want to get an output for.\n",
    "inp = np.array([[74], [60], [45], [67], [49], [43], [90], [65],\n",
    "                [57], [29.68], [10], [7], [2], [20], [4], [31]])\n",
    "\n",
    "# Reshaping the input array so that we can predict the values using the model. \n",
    "inp = inp.reshape(1, -1)\n",
    "\n",
    "print(RainfallLinearRegerssion.predict(inp))"
   ]
  }
 ],
 "metadata": {
  "kernelspec": {
   "display_name": "base",
   "language": "python",
   "name": "python3"
  },
  "language_info": {
   "codemirror_mode": {
    "name": "ipython",
    "version": 3
   },
   "file_extension": ".py",
   "mimetype": "text/x-python",
   "name": "python",
   "nbconvert_exporter": "python",
   "pygments_lexer": "ipython3",
   "version": "3.10.10"
  },
  "orig_nbformat": 4
 },
 "nbformat": 4,
 "nbformat_minor": 2
}
